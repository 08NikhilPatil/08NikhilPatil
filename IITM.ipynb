{
 "cells": [
  {
   "cell_type": "code",
   "execution_count": null,
   "metadata": {},
   "outputs": [],
   "source": [
    "#list to dict and dict to list\n",
    "def dict_to_list(D):\n",
    "    L = []\n",
    "    for key in D:\n",
    "        T=(key,D[key])\n",
    "        L.append(T)\n",
    "    return L\n",
    "    \n",
    "def list_to_dict(L):\n",
    "    D=dict()\n",
    "    for key,value in L:\n",
    "        D[key]=value\n",
    "    return D\n",
    "\n",
    "#sort in ascending order without using sort function\n",
    "L = [90, 47, 8, 18, 10, 7]\n",
    "S = [L[0]]\n",
    "for i in range(1, len(L)):\n",
    "    flag = True\n",
    "    for j in range(len(S)):\n",
    "        if L[i] < S[j]:\n",
    "            before_j = S[: j]\n",
    "            new_j = [L[i]]\n",
    "            after_j = S[j: ]\n",
    "            S = before_j + new_j + after_j\n",
    "            flag = False\n",
    "            break\n",
    "    if flag:\n",
    "        S.append(L[i])\n",
    "print(S)"
   ]
  }
 ],
 "metadata": {
  "kernelspec": {
   "display_name": "Python 3",
   "language": "python",
   "name": "python3"
  },
  "language_info": {
   "codemirror_mode": {
    "name": "ipython",
    "version": 3
   },
   "file_extension": ".py",
   "mimetype": "text/x-python",
   "name": "python",
   "nbconvert_exporter": "python",
   "pygments_lexer": "ipython3",
   "version": "3.6.5"
  }
 },
 "nbformat": 4,
 "nbformat_minor": 2
}
